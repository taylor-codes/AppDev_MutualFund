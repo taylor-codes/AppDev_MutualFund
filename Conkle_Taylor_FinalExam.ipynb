{
 "cells": [
  {
   "cell_type": "markdown",
   "metadata": {},
   "source": [
    "# An Introduction to Mutal Fund Comparison  \n",
    "## Taylor Conkle - IS 3073.001"
   ]
  },
  {
   "cell_type": "markdown",
   "metadata": {},
   "source": [
    "  "
   ]
  },
  {
   "cell_type": "markdown",
   "metadata": {},
   "source": [
    "# About this Notebook  \n",
    "  \n",
    "This notebook gives an introductory analysis to mutual funds. First, we will look at three stocks from the airline sector of the economy. Next, we will look at three of the top performing internet serviecs on the web today. There are essentially three seperate mutaul funds that are analyzed, the third being a combination of the top three stocks from the first two funds.  \n",
    "  \n",
    "The stock data in this notebook is used from IEX, a U.S. based stock exchange."
   ]
  },
  {
   "cell_type": "markdown",
   "metadata": {},
   "source": [
    "  "
   ]
  },
  {
   "cell_type": "markdown",
   "metadata": {},
   "source": [
    "## *Getting the Notebook Ready...  *\n",
    "  \n",
    "A few import statements are done here to prepare the notebook for essential dataframe use, calculations, and plotting methods."
   ]
  },
  {
   "cell_type": "code",
   "execution_count": null,
   "metadata": {},
   "outputs": [],
   "source": [
    "import matplotlib.pyplot as plt\n",
    "import pandas as pd\n",
    "from pandas import datetime\n",
    "import pandas_datareader.data as web\n",
    "import matplotlib.pyplot as plt\n",
    "from matplotlib import style"
   ]
  },
  {
   "cell_type": "markdown",
   "metadata": {},
   "source": [
    "  "
   ]
  },
  {
   "cell_type": "markdown",
   "metadata": {},
   "source": [
    "# Mutual Fund 01 – *Airlines*  \n",
    "  \n",
    "For this mutual fund, I have chosen three airlines to analyze. The air transportation industry is in high demand these days. Each day, hundreds of thousands of flights leave in and out of airports around the world. This sector provides for steadily growing stocks.  \n",
    "  \n",
    "We will be looking at SkyWest Airlines, Delta Airlines, and United Airlines. "
   ]
  },
  {
   "cell_type": "markdown",
   "metadata": {},
   "source": [
    "First, let's get the data from IEX."
   ]
  },
  {
   "cell_type": "code",
   "execution_count": null,
   "metadata": {},
   "outputs": [],
   "source": [
    "start = '2014-01-01'\n",
    "end   = '2018-12-01'\n",
    "\n",
    "skyw = web.DataReader(name = 'SKYW', data_source = 'iex', start = start, end = end)  # SkyWest\n",
    "skyw.reset_index(inplace = True)\n",
    "dal  = web.DataReader(name = 'DAL', data_source = 'iex', start = start, end = end)   # Delta\n",
    "dal.reset_index(inplace = True)\n",
    "ual  = web.DataReader(name = 'UAL', data_source = 'iex', start = start, end = end)   # United\n",
    "ual.reset_index(inplace = True)"
   ]
  },
  {
   "cell_type": "markdown",
   "metadata": {},
   "source": [
    "Now that we have the data from IEX in seperate dataframes, we can merge them into one single dataframe to create the mutual fund. Before that happens, the dataframes should be formatted to only include the information that we will use right now (*Trade Date and Opening Price*)."
   ]
  },
  {
   "cell_type": "code",
   "execution_count": null,
   "metadata": {},
   "outputs": [],
   "source": [
    "# Slicing of non-essential columns\n",
    "\n",
    "skyw  = skyw[['date','open']]\n",
    "dal   = dal[['date','open']]\n",
    "ual   = ual[['date','open']]\n",
    "\n",
    "# Merging dataframes into 1 mutual fund\n",
    "\n",
    "mfund1 = pd.merge(skyw,dal, on = 'date')\n",
    "mfund1 = pd.merge(mfund1,ual, on = 'date')"
   ]
  },
  {
   "cell_type": "markdown",
   "metadata": {},
   "source": [
    "Here is a sample of how the raw mutal fund currently looks..."
   ]
  },
  {
   "cell_type": "code",
   "execution_count": null,
   "metadata": {},
   "outputs": [],
   "source": [
    "mfund1.head()"
   ]
  },
  {
   "cell_type": "markdown",
   "metadata": {},
   "source": [
    "To make the dataframe be more interpretable and appealing, we should rename the columns and set the index to Trade Date.  \n",
    "  \n",
    "**Side Note**: The, to be, 'Trade Date' column is initially in string format. For re-sampling that we will perform later on, this column should be converted to *datetime* format."
   ]
  },
  {
   "cell_type": "code",
   "execution_count": null,
   "metadata": {},
   "outputs": [],
   "source": [
    "# Rename columns\n",
    "\n",
    "mfund1.rename(columns = {'date':'Trade Date','open_x':'SkyWest','open_y':'Delta','open':'United'}, inplace = True)\n",
    "\n",
    "# Convert Trade Date to datetime format\n",
    "\n",
    "mfund1['Trade Date'] = pd.to_datetime(mfund1['Trade Date'])\n",
    "\n",
    "# Set Trade Date as index\n",
    "\n",
    "mfund1.set_index('Trade Date', inplace = True)\n",
    "\n",
    "\n",
    "mfund1.head()"
   ]
  },
  {
   "cell_type": "markdown",
   "metadata": {},
   "source": [
    "That's much better. Now, let's have a look at what our stock prices look like on a graph."
   ]
  },
  {
   "cell_type": "code",
   "execution_count": null,
   "metadata": {},
   "outputs": [],
   "source": [
    "%pylab inline\n",
    "pylab.rcParams['figure.figsize'] = (15, 9)\n",
    "style.use('bmh')\n",
    "mfund1.plot()"
   ]
  },
  {
   "cell_type": "markdown",
   "metadata": {},
   "source": [
    "As you can see above, United Airlines looks to be out performing the other airlines on the basis of stock price. Not to be confused, this is only the *price* of the stock at one point in time. To make a better assumption, we should look at the returns of the stocks. The return of a stock will tell us how profitable it has been over time."
   ]
  },
  {
   "cell_type": "code",
   "execution_count": null,
   "metadata": {},
   "outputs": [],
   "source": [
    "# Calculating stock returns\n",
    "\n",
    "return1 = mfund1.apply(lambda x: x / x[0])\n",
    "\n",
    "%pylab inline\n",
    "pylab.rcParams['figure.figsize'] = (15, 9)\n",
    "\n",
    "return1.plot(grid = True).axhline(y = 1, color = 'black', lw = 3)  # Adds bold line at y = 1"
   ]
  },
  {
   "cell_type": "code",
   "execution_count": null,
   "metadata": {},
   "outputs": [],
   "source": [
    "return1.tail()"
   ]
  },
  {
   "cell_type": "markdown",
   "metadata": {},
   "source": [
    "By graphing the returns, we see that United Airlines is not the golden stock we initially assumed it to be. SkyWest is now out performing the others on the basis of *stock return*. Not only is it out performing the others, but it is doing so at a substantial amount and rate. Many investors usually look at stock returns before making any other decisions. Of course, so many other factors go into choosing the best stock to invest in when playing the stock market game competitively."
   ]
  },
  {
   "cell_type": "markdown",
   "metadata": {},
   "source": [
    "  "
   ]
  },
  {
   "cell_type": "markdown",
   "metadata": {},
   "source": [
    "## *Benchmarking*  \n",
    "  \n",
    "Benchmarking is a concept and stategy used when comapring stock prices. This method is essentially a way to look at the overall performance of the \"market\". A great example of a benchmark is the S&P 500. The Standard & Poor's 500 is a market *index* of 500 U.S. companies that have common stock posted on the NYSE and NASDAQ stock exchanges. The index values listed for the S&P 500 are basically averages of all of these company's stock prices overtime. The averages are used for a basis of the U.S. stock market performance at any given time.  \n",
    "\n",
    "In this case, our benchmark will consist of the averages of the three airline stocks. The dataset will be re-sampled at this time to reflect end-of-month prices."
   ]
  },
  {
   "cell_type": "code",
   "execution_count": null,
   "metadata": {},
   "outputs": [],
   "source": [
    "# Calculate and add Benchmark\n",
    "\n",
    "return1['Benchmark'] = return1.mean(axis = 1)"
   ]
  },
  {
   "cell_type": "code",
   "execution_count": null,
   "metadata": {},
   "outputs": [],
   "source": [
    "# Re-sample by month\n",
    "\n",
    "mfund1BM = return1[['SkyWest','Delta', 'United', 'Benchmark']].resample('M').mean()\n",
    "mfund1BM.head()"
   ]
  },
  {
   "cell_type": "markdown",
   "metadata": {},
   "source": [
    "We can now visualize the stocks returns compared to the benchmark."
   ]
  },
  {
   "cell_type": "code",
   "execution_count": null,
   "metadata": {},
   "outputs": [],
   "source": [
    "%pylab inline\n",
    "pylab.rcParams['figure.figsize'] = (15, 9)\n",
    "\n",
    "mfund1BM.plot(grid = True).axhline(y = 1, color = 'black', lw = 3)"
   ]
  },
  {
   "cell_type": "markdown",
   "metadata": {},
   "source": [
    "Delta and United are both below the benchmark as we get closer to today's date. SkyWest will definitely be one of the stocks listed in the the final mutual fund.  \n",
    "  \n",
    "At this point, we have done a rather small comparison on these stocks. As an introductory stock market game player, this is good information to have. There are many other ways to look at these stocks and predict the best ones. Later, in the third mutual fund, we will look at some of those methods of predicting and selecting a good stock to invest in.  \n",
    "  \n",
    "Next, we look at our second mutual fund–*internet services*."
   ]
  },
  {
   "cell_type": "markdown",
   "metadata": {},
   "source": [
    "  "
   ]
  },
  {
   "cell_type": "markdown",
   "metadata": {},
   "source": [
    "# Mutual Fund 02 – *Internet Services*  \n",
    "  \n",
    "So many people have been using the internet for a complete range of services. The use of the internet is not limitied to humans, as machines and small devices around the world use internet services without us giving it a second thought. I chose this sector because of the mere fact that I, an avid internet user, would like to keep using the internet. By this, I mean that if a substantial amount of interest and use comes from something, why not invest in it? Investing gives one the opportunity to theoretically allow profits to the service of choice. Investing is also a way to express interest in a sector, company, service, stock, etc.  \n",
    "  \n",
    "The stocks I chose to analyze for this sector are some of the most well known–Google, Twitter, and Amazon.  \n",
    "  \n",
    "We will be performing the same steps above, just with slightly less annotations."
   ]
  },
  {
   "cell_type": "code",
   "execution_count": null,
   "metadata": {},
   "outputs": [],
   "source": [
    "start = '2014-01-01'\n",
    "end   = '2018-12-01'\n",
    "\n",
    "googl = web.DataReader(name = 'GOOGL', data_source = 'iex', start = start, end = end)\n",
    "googl.reset_index(inplace = True)\n",
    "twtr  = web.DataReader(name = 'TWTR', data_source = 'iex', start = start, end = end)\n",
    "twtr.reset_index(inplace = True)\n",
    "amzn  = web.DataReader(name = 'AMZN', data_source = 'iex', start = start, end = end)\n",
    "amzn.reset_index(inplace = True)"
   ]
  },
  {
   "cell_type": "code",
   "execution_count": null,
   "metadata": {},
   "outputs": [],
   "source": [
    "# Slicing of non-essential columns\n",
    "\n",
    "googl = googl[['date','open']]\n",
    "twtr  = twtr[['date','open']]\n",
    "amzn  = amzn[['date','open']]\n",
    "\n",
    "# Merging dataframes into 1 mutual fund\n",
    "\n",
    "mfund2 = pd.merge(googl,twtr, on = 'date')\n",
    "mfund2 = pd.merge(mfund2,amzn, on = 'date')"
   ]
  },
  {
   "cell_type": "markdown",
   "metadata": {},
   "source": [
    "Here is a sample of how the raw mutal fund currently looks..."
   ]
  },
  {
   "cell_type": "code",
   "execution_count": null,
   "metadata": {},
   "outputs": [],
   "source": [
    "mfund2.head()"
   ]
  },
  {
   "cell_type": "code",
   "execution_count": null,
   "metadata": {},
   "outputs": [],
   "source": [
    "# Rename columns\n",
    "\n",
    "mfund2.rename(columns = {'date':'Trade Date','open_x':'Google','open_y':'Twitter','open':'Amazon'}, inplace = True)\n",
    "\n",
    "# Convert Trade Date to datetime format\n",
    "\n",
    "mfund2['Trade Date'] = pd.to_datetime(mfund2['Trade Date'])\n",
    "\n",
    "# Set Trade Date as index\n",
    "\n",
    "mfund2.set_index('Trade Date', inplace = True)"
   ]
  },
  {
   "cell_type": "code",
   "execution_count": null,
   "metadata": {},
   "outputs": [],
   "source": [
    "mfund2.head()"
   ]
  },
  {
   "cell_type": "code",
   "execution_count": null,
   "metadata": {},
   "outputs": [],
   "source": [
    "%pylab inline\n",
    "pylab.rcParams['figure.figsize'] = (15, 9)\n",
    "style.use('bmh')\n",
    "mfund2.plot()"
   ]
  },
  {
   "cell_type": "markdown",
   "metadata": {},
   "source": [
    "Here is what our stock prices in mutual fund 02 look like on a plot. Twitter's stock price seems to be fairly low and stable compared to Google and Amazon. Amazon's stock price is much higher than Google's and Twitter's. We should check the returns on the stocks to see which of these will be worthy of going into the third mutual fund."
   ]
  },
  {
   "cell_type": "code",
   "execution_count": null,
   "metadata": {},
   "outputs": [],
   "source": [
    "# Calculating stock returns\n",
    "\n",
    "return2 = mfund2.apply(lambda x: x / x[0])\n",
    "\n",
    "%pylab inline\n",
    "pylab.rcParams['figure.figsize'] = (15, 9)\n",
    "\n",
    "return2.plot(grid = True).axhline(y = 1, color = 'black', lw = 3)  # Adds bold line at y = 1"
   ]
  },
  {
   "cell_type": "code",
   "execution_count": null,
   "metadata": {},
   "outputs": [],
   "source": [
    "return2.tail()"
   ]
  },
  {
   "cell_type": "markdown",
   "metadata": {},
   "source": [
    "The graphical representation of returns looks almost the same as the original graph with stock prices. Again, Amazon is outperforming Google and Twitter by a substantial amount.  \n",
    "  \n",
    "Amazon is a company known very well around the U.S. and surrounding areas. Most people know the company as an online shopping platform. Not only does Amazon provide these services, the company also provides platforms for home and major business services. This looks like a great stock to invest in (if we have the funds to do so)."
   ]
  },
  {
   "cell_type": "code",
   "execution_count": null,
   "metadata": {},
   "outputs": [],
   "source": [
    "# Calculate and add Benchmark\n",
    "\n",
    "return2['Benchmark'] = return2.mean(axis = 1)"
   ]
  },
  {
   "cell_type": "code",
   "execution_count": null,
   "metadata": {},
   "outputs": [],
   "source": [
    "# Re-sample by month\n",
    "\n",
    "mfund2BM = return2[['Google','Twitter', 'Amazon', 'Benchmark']].resample('M').mean()\n",
    "mfund2BM.head()"
   ]
  },
  {
   "cell_type": "code",
   "execution_count": null,
   "metadata": {},
   "outputs": [],
   "source": [
    "%pylab inline\n",
    "pylab.rcParams['figure.figsize'] = (15, 9)\n",
    "\n",
    "mfund2BM.plot(grid = True).axhline(y = 1, color = 'black', lw = 3)"
   ]
  },
  {
   "cell_type": "markdown",
   "metadata": {},
   "source": [
    "It is safe to say that we shoud leave Twitter out of the range of consideration for the third mutual fund. The returns for this stock are below average and have a steady decrease. Although it seems as if there may be hope for the company's stock in the future, we will leave it behind for now."
   ]
  },
  {
   "cell_type": "markdown",
   "metadata": {},
   "source": [
    "  "
   ]
  },
  {
   "cell_type": "markdown",
   "metadata": {},
   "source": [
    "# The Decision: *Which Stocks to Take to Mutal Fund 03*  \n",
    "  \n",
    "We have now looked at our two raw mutual funds. There are a few promising stocks, based soley off of return, but we want to choose the absolute best performing stocks that are at hand. Let's graphically compare the two funds once more before making a decision."
   ]
  },
  {
   "cell_type": "code",
   "execution_count": null,
   "metadata": {
    "scrolled": false
   },
   "outputs": [],
   "source": [
    "# Merge returns 1 & 2 into one dataframe\n",
    "\n",
    "allreturns = pd.merge(return1,return2, on = 'Trade Date')\n",
    "\n",
    "# Slicing of non-essential columns\n",
    "\n",
    "allreturns = allreturns.drop(columns = {'Benchmark_x', 'Benchmark_y'})\n",
    "\n",
    "# Make a new column for return average\n",
    "\n",
    "allreturns.loc['Average'] = allreturns.mean()\n",
    "\n",
    "# Re-set and set index to 'Trade Date'\n",
    "\n",
    "allreturns.reset_index(inplace = True)\n",
    "allreturns.set_index('Trade Date', inplace = True)\n",
    "allreturns = allreturns.loc[['Average']]\n",
    "\n",
    "allreturns.plot.bar()"
   ]
  },
  {
   "cell_type": "markdown",
   "metadata": {},
   "source": [
    "The top 3 stocks that will make way to the third mutual fund will be SkyWest, Delta, and Amazon."
   ]
  },
  {
   "cell_type": "markdown",
   "metadata": {},
   "source": [
    "  "
   ]
  },
  {
   "cell_type": "markdown",
   "metadata": {},
   "source": [
    "# Mutual Fund 03 – *The 'Best' of the Best*"
   ]
  },
  {
   "cell_type": "markdown",
   "metadata": {},
   "source": [
    "The stocks analyzed in this section are: *SkyWest Airlines, Delta Airlines, and Amazon.*  \n",
    "  \n",
    "For a starter in the stock market world, this mutual fund would be great. It is comprised of stocks that have proven to outperform the others in the previous two mutual funds. Now, instead of just focusing on the return value of stocks, we'll take a look at some of the other ways to analyze stocks using python."
   ]
  },
  {
   "cell_type": "markdown",
   "metadata": {},
   "source": [
    "  "
   ]
  },
  {
   "cell_type": "markdown",
   "metadata": {},
   "source": [
    "## *Benchmarking*  \n",
    "  \n",
    "We already know the returns of our stocks. Let's take a look at the returns for the chosen stocks against their benchmark on a graph.  \n",
    "  \n",
    "First, a new dataframe needs to made from the previous two mutual funds. The columns will be sliced to only include the data needed."
   ]
  },
  {
   "cell_type": "code",
   "execution_count": null,
   "metadata": {},
   "outputs": [],
   "source": [
    "# Merging dataframes into 1 mutual fund\n",
    "\n",
    "mfund3 = pd.merge(mfund1,mfund2, on = 'Trade Date')\n",
    "\n",
    "# Slicing of non-essential data\n",
    "\n",
    "mfund3 = mfund3.drop(columns = {'United', 'Google', 'Twitter'})\n",
    "\n",
    "# Calculating stock returns\n",
    "\n",
    "return3 = mfund3.apply(lambda x: x / x[0])"
   ]
  },
  {
   "cell_type": "markdown",
   "metadata": {},
   "source": [
    "#### The tail-end prices of the stocks..."
   ]
  },
  {
   "cell_type": "code",
   "execution_count": null,
   "metadata": {},
   "outputs": [],
   "source": [
    "mfund3.tail()"
   ]
  },
  {
   "cell_type": "markdown",
   "metadata": {},
   "source": [
    "#### The tail-end returns of the stocks..."
   ]
  },
  {
   "cell_type": "code",
   "execution_count": null,
   "metadata": {},
   "outputs": [],
   "source": [
    "return3.tail()"
   ]
  },
  {
   "cell_type": "code",
   "execution_count": null,
   "metadata": {},
   "outputs": [],
   "source": [
    "# Calculate and add Benchmark\n",
    "\n",
    "return3['Benchmark'] = return3.mean(axis = 1)\n",
    "\n",
    "# Re-sample by month\n",
    "\n",
    "mfund3BM = return3[['SkyWest', 'Delta', 'Amazon', 'Benchmark']].resample('M').mean()"
   ]
  },
  {
   "cell_type": "markdown",
   "metadata": {},
   "source": [
    "#### The tail-end returns of the stocks *with the benchmark*"
   ]
  },
  {
   "cell_type": "code",
   "execution_count": null,
   "metadata": {},
   "outputs": [],
   "source": [
    "mfund3BM.tail()"
   ]
  },
  {
   "cell_type": "code",
   "execution_count": null,
   "metadata": {},
   "outputs": [],
   "source": [
    "%pylab inline\n",
    "pylab.rcParams['figure.figsize'] = (15, 9)\n",
    "\n",
    "mfund3BM.plot(grid = True).axhline(y = 1, color = 'black', lw = 3)"
   ]
  },
  {
   "cell_type": "markdown",
   "metadata": {},
   "source": [
    "In terms of the benchmarked returns, Amazon and SkyWest are the top performers, increasing rapidly in recent years. On the other hand, Delta appears to have a slow, yet steady increase.  \n",
    "  \n",
    "Stock return has been the main focus of the notebook thus far. Next, moving averages will be implented to give a logical understanding of how the prices of the stocks are moving."
   ]
  },
  {
   "cell_type": "markdown",
   "metadata": {},
   "source": [
    "### *The Moving Average*  \n",
    "  \n",
    "The moving averge technique is an application of *smoothing* data and helps analyze trends better. A small, or fast, moving average follows the trend of the data more closely and is not so stable. Whereas a large, or slow, moving average will respond less to fluctuations in the data.  \n",
    "  \n",
    "To show this, a 20 day (fast) moving average will be executed first and a 200 (slow) day moving average will be calculated.  \n",
    "  \n",
    "**Side Note:** If you are someone new to the stock market and are looking to invest, you would probably focus more on the slow moving average to have a concrete understanding of what the price of the stock is doing."
   ]
  },
  {
   "cell_type": "code",
   "execution_count": null,
   "metadata": {},
   "outputs": [],
   "source": [
    "# Moving average dataframe for ea. stock\n",
    "\n",
    "mfund3_ma = mfund3\n",
    "\n",
    "# Calculate and add 20Day & 200Day MA's\n",
    "\n",
    "mfund3_ma['skyw_20DayMA']  = np.round(mfund3['SkyWest'].rolling(window = 20, center = False).mean(), 2)\n",
    "mfund3_ma['skyw_200DayMA'] = np.round(mfund3['SkyWest'].rolling(window = 200, center = False).mean(), 2)\n",
    "\n",
    "mfund3_ma['dal_20DayMA']   = np.round(mfund3['Delta'].rolling(window = 20, center = False).mean(), 2)\n",
    "mfund3_ma['dal_200DayMA']  = np.round(mfund3['Delta'].rolling(window = 200, center = False).mean(), 2)\n",
    "\n",
    "mfund3_ma['amzn_20DayMA']  = np.round(mfund3['Amazon'].rolling(window = 20, center = False).mean(), 2)\n",
    "mfund3_ma['amzn_200DayMA'] = np.round(mfund3['Amazon'].rolling(window = 200, center = False).mean(), 2)"
   ]
  },
  {
   "cell_type": "markdown",
   "metadata": {},
   "source": [
    "When the moving average is applied, some of the data becomes unavailable (which is the point of the moving average). The dataframe should be cleansed of these null values."
   ]
  },
  {
   "cell_type": "code",
   "execution_count": null,
   "metadata": {},
   "outputs": [],
   "source": [
    "mfund3_ma.head()"
   ]
  },
  {
   "cell_type": "code",
   "execution_count": null,
   "metadata": {},
   "outputs": [],
   "source": [
    "# Dropping na data\n",
    "\n",
    "mfund3_ma = mfund3.dropna()\n",
    "\n",
    "# Display the clean dataframe\n",
    "\n",
    "mfund3_ma.head()"
   ]
  },
  {
   "cell_type": "markdown",
   "metadata": {},
   "source": [
    "We are now able to graph the data with the moving averages. This step will be done individually for each stock."
   ]
  },
  {
   "cell_type": "markdown",
   "metadata": {},
   "source": [
    "#### SkyWest Stock Prices *Against the Moving Average...*"
   ]
  },
  {
   "cell_type": "code",
   "execution_count": null,
   "metadata": {},
   "outputs": [],
   "source": [
    "%pylab inline\n",
    "pylab.rcParams['figure.figsize'] = (15, 9)\n",
    "\n",
    "fig = plt.figure()\n",
    "ax1 = plt.subplot2grid((1,1), (0,0))\n",
    "\n",
    "mfund3_ma['SkyWest'].plot(ax = ax1, label = \"SkyWest\")\n",
    "mfund3_ma['skyw_20DayMA'].plot(ax = ax1, label = \"20 Day MA\")\n",
    "mfund3_ma['skyw_200DayMA'].plot(ax = ax1, label = \"200 Day MA\")\n",
    "\n",
    "plt.title('SkyWest Moving Averages')\n",
    "plt.ylabel('Stock Price')\n",
    "plt.legend()"
   ]
  },
  {
   "cell_type": "markdown",
   "metadata": {},
   "source": [
    "A slow moving average is known to act as a 'floor' for the stock price. You can see above, that the 200 day moving average is much more stable compared to the 20 day moving average."
   ]
  },
  {
   "cell_type": "markdown",
   "metadata": {},
   "source": [
    "#### Delta Stock Prices *Against the Moving Average...*"
   ]
  },
  {
   "cell_type": "code",
   "execution_count": null,
   "metadata": {},
   "outputs": [],
   "source": [
    "%pylab inline\n",
    "pylab.rcParams['figure.figsize'] = (15, 9)\n",
    "\n",
    "fig = plt.figure()\n",
    "ax1 = plt.subplot2grid((1,1), (0,0))\n",
    "\n",
    "mfund3_ma['Delta'].plot(ax = ax1, label = 'Delta')\n",
    "mfund3_ma['dal_20DayMA'].plot(ax = ax1, label = \"20 Day MA\")\n",
    "mfund3_ma['dal_200DayMA'].plot(ax = ax1, label = \"200 Day MA\")\n",
    "\n",
    "plt.title('Delta Moving Averages')\n",
    "plt.ylabel('Stock Price')\n",
    "plt.legend()"
   ]
  },
  {
   "cell_type": "markdown",
   "metadata": {},
   "source": [
    "#### Amazon Stock Prices *Against the Moving Average...*"
   ]
  },
  {
   "cell_type": "code",
   "execution_count": null,
   "metadata": {
    "scrolled": false
   },
   "outputs": [],
   "source": [
    "%pylab inline\n",
    "pylab.rcParams['figure.figsize'] = (15, 9)\n",
    "\n",
    "fig = plt.figure()\n",
    "ax1 = plt.subplot2grid((1,1), (0,0))\n",
    "\n",
    "mfund3_ma['Amazon'].plot(ax = ax1, label = \"Amazon\")\n",
    "mfund3_ma['amzn_20DayMA'].plot(ax = ax1, label = \"20 Day MA\")\n",
    "mfund3_ma['amzn_200DayMA'].plot(ax = ax1, label = \"200 Day MA\")\n",
    "\n",
    "plt.title('Amazon Moving Averages')\n",
    "plt.ylabel('Stock Price')\n",
    "plt.legend()"
   ]
  },
  {
   "cell_type": "markdown",
   "metadata": {},
   "source": [
    "Amazon has a wonderful slow moving average. It has stable increase over time and a high price increase in the recent years. Plus, the price is substantially high, at just over $2,000 mid 2018. Delta seemed to have suffered a huge loss early 2016, which brings the moving average down. This company needs time to re-cooperate financially (which was done in less than a year)."
   ]
  },
  {
   "cell_type": "markdown",
   "metadata": {},
   "source": [
    "### *Using Logarithmic Differences*  \n",
    "  \n",
    "Using a log scale when looking at stock prices gives an advantage to the experienced and non-experienced stock purchaser. Log differences are interpreted as the percent change in the price of stock for a certain period of time.  \n",
    "  \n",
    "Although we will examine each stock's log differences, recall the drop in the price of Delta's stock price in early 2016. A concrete example of this, with log differences, will be explained."
   ]
  },
  {
   "cell_type": "code",
   "execution_count": null,
   "metadata": {},
   "outputs": [],
   "source": [
    "# Dataframe for log differences\n",
    "\n",
    "mfund3_log = mfund3.apply(lambda x: np.log(x) - np.log(x.shift(1)))\n",
    "\n",
    "# Slicing of non-essential data\n",
    "\n",
    "mfund3_log = mfund3_log.drop(columns = {'skyw_20DayMA', 'skyw_200DayMA', 'dal_20DayMA',\n",
    "                                        'dal_200DayMA', 'amzn_20DayMA', 'amzn_200DayMA'})\n",
    "\n",
    "# Re-sample by year\n",
    "\n",
    "mfund3_logY = mfund3_log[['SkyWest','Delta', 'Amazon']].resample('Y').mean()\n",
    "\n",
    "# Drop na data\n",
    "mfund3_logY = mfund3_logY.dropna()"
   ]
  },
  {
   "cell_type": "markdown",
   "metadata": {},
   "source": [
    "#### The log difference table..."
   ]
  },
  {
   "cell_type": "code",
   "execution_count": null,
   "metadata": {},
   "outputs": [],
   "source": [
    "mfund3_logY"
   ]
  },
  {
   "cell_type": "markdown",
   "metadata": {},
   "source": [
    "When re-sampled by year, the log differences show that the relative price of all the stock are increasing over the years, with the expception of Delta's loss in 2016. Graphing a log table with little information is not very useful. To fix this, the dataframe will be re-sampled by month."
   ]
  },
  {
   "cell_type": "code",
   "execution_count": null,
   "metadata": {},
   "outputs": [],
   "source": [
    "# Re-sample by month\n",
    "\n",
    "mfund3_logM = mfund3_log[['SkyWest','Delta', 'Amazon']].resample('M').mean()\n",
    "\n",
    "# Drop na data\n",
    "\n",
    "mfund3_logM = mfund3_logM.dropna()\n",
    "\n",
    "# Plot of re-sampled log differences\n",
    "\n",
    "mfund3_logM.plot(grid = True).axhline(y = 0, color = \"black\", lw = 2)"
   ]
  },
  {
   "cell_type": "markdown",
   "metadata": {},
   "source": [
    "Certain time frames of the date can be sliced to show a zoomed in picture of the log differences. Here, we look at the years 2016 - 2018 specifically."
   ]
  },
  {
   "cell_type": "code",
   "execution_count": null,
   "metadata": {},
   "outputs": [],
   "source": [
    "# Re-sample by week\n",
    "\n",
    "mfund3_logW = mfund3_log[['SkyWest','Delta', 'Amazon']].resample('W').mean()\n",
    "\n",
    "# Slicing of non-essential data\n",
    "\n",
    "mfund3_logW = mfund3_logW.loc['2016-01-08':'2018-12-08',:]\n",
    "\n",
    "# Drop na data\n",
    "\n",
    "mfund3_logW = mfund3_logW.dropna()\n",
    "\n",
    "# Plot of re-sampled log differences\n",
    "\n",
    "mfund3_logW.plot(grid = True).axhline(y = 0, color = \"black\", lw = 2)"
   ]
  },
  {
   "cell_type": "markdown",
   "metadata": {},
   "source": [
    "### *Using and Vizualizing Correlation Tables*  \n",
    "  \n",
    "Correlation is used to show the effect or degree of movement between two variables. When looking for stocks and mutual funds to invest in, this can be particulary handy. But why? Assume you're interested in two mutual funds that have 2 stocks in each. A correlation coefficient is run on each mutual fund. One of the funds appears to have a positive correlation in the same direction between the stocks. The other fund has a negative correlation between the two. If you were smart, and did a bit of learning previously, you would purchase the fund with the two positive correlations to maximize your chance of profit. Here's an example."
   ]
  },
  {
   "cell_type": "code",
   "execution_count": null,
   "metadata": {},
   "outputs": [],
   "source": [
    "# Slicing of non-essential data\n",
    "\n",
    "mfund3_corr = mfund3.drop(columns = {'skyw_20DayMA', 'skyw_200DayMA', 'dal_20DayMA',\n",
    "                                     'dal_200DayMA', 'amzn_20DayMA', 'amzn_200DayMA'})\n",
    "\n",
    "# Calculating correlation\n",
    "\n",
    "mfund3_corr = mfund3_corr.corr()"
   ]
  },
  {
   "cell_type": "markdown",
   "metadata": {},
   "source": [
    "#### The correlation table..."
   ]
  },
  {
   "cell_type": "code",
   "execution_count": null,
   "metadata": {},
   "outputs": [],
   "source": [
    "mfund3_corr"
   ]
  },
  {
   "cell_type": "markdown",
   "metadata": {},
   "source": [
    "You can see that SkyWest and Amazon have the highest correlation, which means these are probably the most promising stocks from this mutual fund. Delta has a lower correlation between the other two, but it is nonetheless still on the higher side and is promising."
   ]
  },
  {
   "cell_type": "markdown",
   "metadata": {},
   "source": [
    "### *Using the S&P 500 for Comparison*  \n",
    "  \n",
    "Recall towards the beginning of this notebook when the S&P 500 was mentioned. Here, the comparison of the mutual fund can be compared to the overall U.S. stock market. Doing this will show the relative performance of each stock to the S&P 500. This is benchmarking on steroids.  \n",
    "  \n",
    "Data for the S&P is used from IEX, a U.S. based stock exchange."
   ]
  },
  {
   "cell_type": "code",
   "execution_count": null,
   "metadata": {},
   "outputs": [],
   "source": [
    "# Get data from IEX\n",
    "\n",
    "start = '2014-01-01'\n",
    "end   = '2018-12-01'\n",
    "\n",
    "sp500 = web.DataReader(name='SPY', data_source='iex', start=start, end=end)\n",
    "sp500.reset_index(inplace=True)\n",
    "\n",
    "# Slicing of non-essential columns\n",
    "\n",
    "sp500 = sp500[['date','open']]\n",
    "\n",
    "# Re-name columns\n",
    "\n",
    "sp500 = sp500.rename(columns= {'date' : 'Trade Date', 'open' : 'S&P 500'})\n",
    "\n",
    "# Convert 'Trade Date' to datetime format\n",
    "\n",
    "sp500['Trade Date'] = pd.to_datetime(sp500['Trade Date'])\n",
    "\n",
    "# Set index to 'Trade Date'\n",
    "\n",
    "sp500.set_index('Trade Date', inplace=True)\n",
    "\n",
    "# Merging dataframes into 1 mutual fund\n",
    "\n",
    "sp500 = pd.merge(sp500,mfund3, on='Trade Date')\n",
    "\n",
    "# Slicing of non-essential columns\n",
    "\n",
    "sp500 = sp500.drop(columns = {'skyw_20DayMA', 'skyw_200DayMA', 'dal_20DayMA',\n",
    "                              'dal_200DayMA', 'amzn_20DayMA', 'amzn_200DayMA'})\n",
    "\n",
    "sp500.plot()"
   ]
  },
  {
   "cell_type": "markdown",
   "metadata": {},
   "source": [
    "We can clearly see that Amazon is pushing new limits in overall stock price performance, but what about on stock return?"
   ]
  },
  {
   "cell_type": "code",
   "execution_count": null,
   "metadata": {},
   "outputs": [],
   "source": [
    "# Calculate returns\n",
    "\n",
    "sp500 = sp500.apply(lambda x: x / x[0])"
   ]
  },
  {
   "cell_type": "markdown",
   "metadata": {},
   "source": [
    "#### S&P 500 Comparison: *Stock Returns*"
   ]
  },
  {
   "cell_type": "code",
   "execution_count": null,
   "metadata": {},
   "outputs": [],
   "source": [
    "sp500.plot()"
   ]
  },
  {
   "cell_type": "markdown",
   "metadata": {},
   "source": [
    "  "
   ]
  },
  {
   "cell_type": "markdown",
   "metadata": {},
   "source": [
    "## Conclusion  \n",
    "  \n",
    "Up to this point, we have seen many ways in which a stock or mutual fund can be analyzed. Using python for stock analysis puts the user at an advantage, even when there may be sites that do these things for you. It is the learning curve that you experience while doing this that puts you ahead.  \n",
    "  \n",
    "In simple terms, we created three mutual funds. One fund from the air transportation industry, one from the internet services sector, and a third from the top three performing stocks from the two initial funds. The stocks that made it to the final fund are SkyWest Airlines, Delta Airlines, and Amazon. As of right now, Amazon is the leader in price performance and relative return on investment. Amazon and SkyWest Airlines pair well according to the correlation coefficient. Overall, these three stocks are great for new investors with some money to spend."
   ]
  }
 ],
 "metadata": {
  "kernelspec": {
   "display_name": "Python 3",
   "language": "python",
   "name": "python3"
  },
  "language_info": {
   "codemirror_mode": {
    "name": "ipython",
    "version": 3
   },
   "file_extension": ".py",
   "mimetype": "text/x-python",
   "name": "python",
   "nbconvert_exporter": "python",
   "pygments_lexer": "ipython3",
   "version": "3.6.5"
  }
 },
 "nbformat": 4,
 "nbformat_minor": 2
}
